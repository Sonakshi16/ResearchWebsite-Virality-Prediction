{
  "nbformat": 4,
  "nbformat_minor": 0,
  "metadata": {
    "colab": {
      "name": "GitFR-Crawler.ipynb",
      "provenance": [],
      "collapsed_sections": []
    },
    "kernelspec": {
      "name": "python3",
      "display_name": "Python 3"
    }
  },
  "cells": [
    {
      "cell_type": "code",
      "metadata": {
        "id": "_9xLnzBuOC_3",
        "colab_type": "code",
        "colab": {}
      },
      "source": [
        "import requests\n",
        "from bs4 import BeautifulSoup\n",
        "import re\n",
        "import pandas as pd\n",
        "import numpy as np\n",
        "import time"
      ],
      "execution_count": 0,
      "outputs": []
    },
    {
      "cell_type": "code",
      "metadata": {
        "id": "96Nvnj1oTgJS",
        "colab_type": "code",
        "outputId": "fea973f3-e4ac-4e8f-cf13-dc85e18da89e",
        "colab": {
          "base_uri": "https://localhost:8080/",
          "height": 68
        }
      },
      "source": [
        "import nltk\n",
        "nltk.download('punkt')"
      ],
      "execution_count": 263,
      "outputs": [
        {
          "output_type": "stream",
          "text": [
            "[nltk_data] Downloading package punkt to /root/nltk_data...\n",
            "[nltk_data]   Package punkt is already up-to-date!\n"
          ],
          "name": "stdout"
        },
        {
          "output_type": "execute_result",
          "data": {
            "text/plain": [
              "True"
            ]
          },
          "metadata": {
            "tags": []
          },
          "execution_count": 263
        }
      ]
    },
    {
      "cell_type": "code",
      "metadata": {
        "id": "wKWaMlrTObJc",
        "colab_type": "code",
        "colab": {}
      },
      "source": [
        "url = \"https://github.com/facebookresearch\"\n",
        "r = requests.get(url)"
      ],
      "execution_count": 0,
      "outputs": []
    },
    {
      "cell_type": "code",
      "metadata": {
        "id": "doNK0u6uOiBW",
        "colab_type": "code",
        "colab": {}
      },
      "source": [
        "soup1 = BeautifulSoup(r.content, 'html5lib') \n",
        "\n",
        "coverpage = soup1.find_all('h3', class_='wb-break-all')\n",
        "starspage = soup1.find_all('a', class_=\"no-wrap muted-link mr-3\", href=re.compile(\"stargazers\"))\n"
      ],
      "execution_count": 0,
      "outputs": []
    },
    {
      "cell_type": "code",
      "metadata": {
        "id": "P6nemExZOmQi",
        "colab_type": "code",
        "colab": {}
      },
      "source": [
        "news=[]\n",
        "titles=[]\n",
        "links=[]\n",
        "stars=[]\n",
        "description = []\n",
        "for n in np.arange(0, 30): \n",
        "    link = \"https://github.com\" + coverpage[n].find('a')['href']\n",
        "    links.append(link)\n",
        "\n",
        "    title = coverpage[n].find('a').get_text()\n",
        "    titles.append(title)\n",
        "\n",
        "    r2 = requests.get(link)\n",
        "    soup2 = BeautifulSoup(r2.content, 'html5lib')\n",
        "    body = soup2.find_all('article', class_='markdown-body entry-content')\n",
        "    desc = soup2.find_all('title')\n",
        "\n",
        "    list_paragraphs = []\n",
        "    for p in np.arange(0, len(body)):\n",
        "        paragraph = body[p].get_text()\n",
        "        list_paragraphs.append(paragraph)\n",
        "        final_article = \" \".join(list_paragraphs)\n",
        "        description.append(desc[p].get_text())\n",
        "        \n",
        "\n",
        "    final_article = re.sub(\"\\\\xa0\", \"\", final_article)\n",
        "        \n",
        "    news.append(final_article)\n",
        "    \n",
        "for i in np.arange(0,30):\n",
        "    titles[i] = re.sub(\"\\\\n\", \"\", titles[i])\n",
        "    news[i] = re.sub(\"\\\\n\", \"\", news[i])"
      ],
      "execution_count": 0,
      "outputs": []
    },
    {
      "cell_type": "code",
      "metadata": {
        "id": "0poHFARE03pE",
        "colab_type": "code",
        "colab": {}
      },
      "source": [
        "star=[]\n",
        "for i in range(0, 20):\n",
        "  star.append(starspage[i].get_text())\n",
        "  star[i] = re.sub(\"\\\\n\", \"\", star[i])\n",
        "  star[i] = re.sub(\"[,]\", \"\", star[i])\n",
        "  star[i] = float(star[i].strip())\n",
        "\n",
        "\n",
        "stars = pd.DataFrame(\n",
        "    {'Saved' : star\n",
        "})"
      ],
      "execution_count": 0,
      "outputs": []
    },
    {
      "cell_type": "code",
      "metadata": {
        "id": "ma0xZBEKRcuw",
        "colab_type": "code",
        "colab": {}
      },
      "source": [
        "features = pd.DataFrame(\n",
        "     {'Article Content': news,\n",
        "      'Article Title' : titles,\n",
        "      'Article Link' : links\n",
        "    })\n",
        "df = pd.DataFrame(\n",
        "    {'Content': news\n",
        "     })\n",
        "df1 = pd.DataFrame(\n",
        "    {'Desc':description})\n"
      ],
      "execution_count": 0,
      "outputs": []
    },
    {
      "cell_type": "code",
      "metadata": {
        "id": "gxlCMa2snC3Q",
        "colab_type": "code",
        "outputId": "15b8a0a9-3216-4ee0-d0e6-5cdcb54001f4",
        "colab": {
          "base_uri": "https://localhost:8080/",
          "height": 68
        }
      },
      "source": [
        "import re\n",
        "from nltk.tokenize import word_tokenize\n",
        "from nltk.corpus import stopwords\n",
        "nltk.download('stopwords')\n"
      ],
      "execution_count": 269,
      "outputs": [
        {
          "output_type": "stream",
          "text": [
            "[nltk_data] Downloading package stopwords to /root/nltk_data...\n",
            "[nltk_data]   Package stopwords is already up-to-date!\n"
          ],
          "name": "stdout"
        },
        {
          "output_type": "execute_result",
          "data": {
            "text/plain": [
              "True"
            ]
          },
          "metadata": {
            "tags": []
          },
          "execution_count": 269
        }
      ]
    },
    {
      "cell_type": "code",
      "metadata": {
        "id": "c_hip2XllDGP",
        "colab_type": "code",
        "colab": {}
      },
      "source": [
        "REPLACE_NO_SPACE = re.compile(\"[.;:!\\'?,\\\"()\\[\\]]\")\n",
        "REPLACE_WITH_SPACE = re.compile(\"(<br\\s*/><br\\s*/>)|(\\-)|(\\/)\")\n",
        "\n",
        "def preprocess(con):\n",
        "    con = [REPLACE_NO_SPACE.sub(\"\", line.lower()) for line in con]\n",
        "    con = [REPLACE_WITH_SPACE.sub(\" \", line) for line in con]\n",
        "    \n",
        "    return con\n",
        "\n",
        "Processed_Content = preprocess(news)\n",
        "Processed_Description = preprocess(description)"
      ],
      "execution_count": 0,
      "outputs": []
    },
    {
      "cell_type": "code",
      "metadata": {
        "id": "8tNjWhPjePvl",
        "colab_type": "code",
        "colab": {}
      },
      "source": [
        "\n",
        "english_stop_words = stopwords.words('english')\n",
        "def remove_stop_words(corpus):\n",
        "    removed_stop_words = []\n",
        "    for text in corpus:\n",
        "        removed_stop_words.append(\n",
        "            ' '.join([word for word in text.split() \n",
        "                      if word not in english_stop_words])\n",
        "        )\n",
        "    return removed_stop_words\n",
        "\n",
        "no_stop_words = remove_stop_words(Processed_Content)\n",
        "no_stopwords_desc = remove_stop_words(Processed_Description)"
      ],
      "execution_count": 0,
      "outputs": []
    },
    {
      "cell_type": "code",
      "metadata": {
        "id": "W-p6Mfk2oPSJ",
        "colab_type": "code",
        "colab": {}
      },
      "source": [
        "from textblob import TextBlob as tb"
      ],
      "execution_count": 0,
      "outputs": []
    },
    {
      "cell_type": "code",
      "metadata": {
        "id": "vrYcUxVKoOww",
        "colab_type": "code",
        "colab": {}
      },
      "source": [
        "df2=[]\n",
        "\n",
        "i = 0\n",
        "for text in Processed_Content:\n",
        "    prediction = {}\n",
        "    desc = Processed_Description[i]\n",
        "    words = word_tokenize(text)\n",
        "    text = text\n",
        "    rate_nostop = len(no_stop_words)/len(words)\n",
        "\n",
        "    def avgtoken(words):\n",
        "      length=[]\n",
        "      for j in words:\n",
        "          length.append(len(j))\n",
        "      return np.average(length)\n",
        "\n",
        "\n",
        "    pos,neg = [],[]\n",
        "    pol_pos,pol_neg = [],[]\n",
        "    for j in words:\n",
        "        analysis = tb(j)\n",
        "        polarity = analysis.sentiment.polarity\n",
        "        if polarity>0:\n",
        "            pos.append(j)\n",
        "            pol_pos.append(polarity)\n",
        "        elif polarity<0:\n",
        "            neg.append(j)\n",
        "            pol_neg.append(polarity)\n",
        "        \n",
        "    prediction['pos_rate'] = len(pos)/len(text)\n",
        "    prediction['neg_rate'] = len(neg)/len(text)\n",
        "    prediction['min_pp'] = min(pol_pos)\n",
        "    prediction['max_pp'] = max(pol_pos)\n",
        "    prediction['avg_pp'] = np.average(pol_pos)\n",
        "    if pol_neg!=[]:\n",
        "        prediction['min_np'] = min(pol_neg)\n",
        "        prediction['max_np'] = max(pol_neg)\n",
        "        prediction['avg_np'] = np.average(pol_neg)\n",
        "\n",
        "    param = 0\n",
        "    if (\"ai\" or \"artificial intelligence\" in desc) or (\"ai\" or \"artificial intelligence\" in text):\n",
        "        param+=1\n",
        "        param+=1\n",
        "    if (\"nlp\" or \"nlu\" or \"natural language processing\" in desc) or (\"nlp\" or \"nlu\" or \"natural language processing\" in text):\n",
        "        param+=1\n",
        "    if (\"nlg\" or \"natural language generation\" in desc) or (\"nlg\" or \"natural language generation\" in text):\n",
        "        param+=1\n",
        "    if (\"robot\" in desc) or (\"robot\" in text):\n",
        "        param+=1\n",
        "    if (\"cognitive\" or \"cognition\" in desc) or (\"cognitive\" or \"cognition\" in text):\n",
        "        param+=1\n",
        "    if (\"rl\" or \"reinforcement learning\" in desc) or (\"rl\" or \"reinforcement learning\" in text):\n",
        "        param+=1\n",
        "        param+=1\n",
        "    if (\"dl\" or \"deep learning\" in desc) or (\"dl\" or \"deep learning\" in text):\n",
        "        param+=1\n",
        "    if (\"speech recognition\" in desc) or (\"speech recognition\" in text):\n",
        "        param+=1\n",
        "    if (\"3d\" in desc) or (\"3d\" in text):\n",
        "        param+=1\n",
        "    prediction['total_param'] = param\n",
        "    df2.append(prediction)\n",
        "    i+=1\n"
      ],
      "execution_count": 0,
      "outputs": []
    },
    {
      "cell_type": "code",
      "metadata": {
        "id": "6j8xxk89gFX2",
        "colab_type": "code",
        "colab": {}
      },
      "source": [
        "pred_info = pd.DataFrame(df2)"
      ],
      "execution_count": 0,
      "outputs": []
    },
    {
      "cell_type": "code",
      "metadata": {
        "id": "bwSmKezTnOzd",
        "colab_type": "code",
        "colab": {}
      },
      "source": [
        "result = pred_info.dropna()\n",
        "features=features.drop([2,3,22])\n",
        "stars = stars.drop([2,3])"
      ],
      "execution_count": 0,
      "outputs": []
    },
    {
      "cell_type": "code",
      "metadata": {
        "id": "4u0tQJJGZJcr",
        "colab_type": "code",
        "colab": {}
      },
      "source": [
        "x_train = result.iloc[0:18,:]\n",
        "y_train = stars.iloc[0:18,:]\n",
        "x_test = result.iloc[18:,:]\n",
        "title_final = features.iloc[18:,:]"
      ],
      "execution_count": 0,
      "outputs": []
    },
    {
      "cell_type": "code",
      "metadata": {
        "id": "8HIZcncQTPXk",
        "colab_type": "code",
        "colab": {}
      },
      "source": [
        "from sklearn.ensemble import RandomForestRegressor"
      ],
      "execution_count": 0,
      "outputs": []
    },
    {
      "cell_type": "code",
      "metadata": {
        "id": "6iHshrHBWShD",
        "colab_type": "code",
        "colab": {
          "base_uri": "https://localhost:8080/",
          "height": 190
        },
        "outputId": "56023f9c-14ac-4c17-a8e8-9e19bc1b8ddd"
      },
      "source": [
        "rfr = RandomForestRegressor(random_state=42)\n",
        "rfr.fit(x_train,y_train)"
      ],
      "execution_count": 278,
      "outputs": [
        {
          "output_type": "stream",
          "text": [
            "/usr/local/lib/python3.6/dist-packages/ipykernel_launcher.py:2: DataConversionWarning: A column-vector y was passed when a 1d array was expected. Please change the shape of y to (n_samples,), for example using ravel().\n",
            "  \n"
          ],
          "name": "stderr"
        },
        {
          "output_type": "execute_result",
          "data": {
            "text/plain": [
              "RandomForestRegressor(bootstrap=True, ccp_alpha=0.0, criterion='mse',\n",
              "                      max_depth=None, max_features='auto', max_leaf_nodes=None,\n",
              "                      max_samples=None, min_impurity_decrease=0.0,\n",
              "                      min_impurity_split=None, min_samples_leaf=1,\n",
              "                      min_samples_split=2, min_weight_fraction_leaf=0.0,\n",
              "                      n_estimators=100, n_jobs=None, oob_score=False,\n",
              "                      random_state=42, verbose=0, warm_start=False)"
            ]
          },
          "metadata": {
            "tags": []
          },
          "execution_count": 278
        }
      ]
    },
    {
      "cell_type": "code",
      "metadata": {
        "id": "aGrzaxPElSZV",
        "colab_type": "code",
        "colab": {}
      },
      "source": [
        "final = pd.DataFrame({\n",
        "    \n",
        "    'Title': title_final['Article Title'],\n",
        "    'Virality': rfr.predict(x_test), \n",
        "    })"
      ],
      "execution_count": 0,
      "outputs": []
    },
    {
      "cell_type": "code",
      "metadata": {
        "id": "u2ThhL7XmN2H",
        "colab_type": "code",
        "colab": {
          "base_uri": "https://localhost:8080/",
          "height": 328
        },
        "outputId": "dd3073a9-9f93-47ad-d8d7-7b7de74b1960"
      },
      "source": [
        "final"
      ],
      "execution_count": 286,
      "outputs": [
        {
          "output_type": "execute_result",
          "data": {
            "text/html": [
              "<div>\n",
              "<style scoped>\n",
              "    .dataframe tbody tr th:only-of-type {\n",
              "        vertical-align: middle;\n",
              "    }\n",
              "\n",
              "    .dataframe tbody tr th {\n",
              "        vertical-align: top;\n",
              "    }\n",
              "\n",
              "    .dataframe thead th {\n",
              "        text-align: right;\n",
              "    }\n",
              "</style>\n",
              "<table border=\"1\" class=\"dataframe\">\n",
              "  <thead>\n",
              "    <tr style=\"text-align: right;\">\n",
              "      <th></th>\n",
              "      <th>Title</th>\n",
              "      <th>Virality</th>\n",
              "    </tr>\n",
              "  </thead>\n",
              "  <tbody>\n",
              "    <tr>\n",
              "      <th>20</th>\n",
              "      <td>hiplot</td>\n",
              "      <td>2697.19</td>\n",
              "    </tr>\n",
              "    <tr>\n",
              "      <th>21</th>\n",
              "      <td>poincare-embeddings</td>\n",
              "      <td>5113.35</td>\n",
              "    </tr>\n",
              "    <tr>\n",
              "      <th>23</th>\n",
              "      <td>classifier-balancing</td>\n",
              "      <td>1617.83</td>\n",
              "    </tr>\n",
              "    <tr>\n",
              "      <th>24</th>\n",
              "      <td>GraphLog</td>\n",
              "      <td>2931.96</td>\n",
              "    </tr>\n",
              "    <tr>\n",
              "      <th>25</th>\n",
              "      <td>ActivityNet-Entities</td>\n",
              "      <td>10751.21</td>\n",
              "    </tr>\n",
              "    <tr>\n",
              "      <th>26</th>\n",
              "      <td>higher</td>\n",
              "      <td>2535.78</td>\n",
              "    </tr>\n",
              "    <tr>\n",
              "      <th>27</th>\n",
              "      <td>nds</td>\n",
              "      <td>4611.85</td>\n",
              "    </tr>\n",
              "    <tr>\n",
              "      <th>28</th>\n",
              "      <td>EGG</td>\n",
              "      <td>2243.81</td>\n",
              "    </tr>\n",
              "    <tr>\n",
              "      <th>29</th>\n",
              "      <td>fvcore</td>\n",
              "      <td>4475.80</td>\n",
              "    </tr>\n",
              "  </tbody>\n",
              "</table>\n",
              "</div>"
            ],
            "text/plain": [
              "                               Title  Virality\n",
              "20                            hiplot   2697.19\n",
              "21               poincare-embeddings   5113.35\n",
              "23              classifier-balancing   1617.83\n",
              "24                          GraphLog   2931.96\n",
              "25              ActivityNet-Entities  10751.21\n",
              "26                            higher   2535.78\n",
              "27                               nds   4611.85\n",
              "28                               EGG   2243.81\n",
              "29                            fvcore   4475.80"
            ]
          },
          "metadata": {
            "tags": []
          },
          "execution_count": 286
        }
      ]
    }
  ]
}